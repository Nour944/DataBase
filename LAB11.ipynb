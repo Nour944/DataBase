{
  "cells": [
    {
      "cell_type": "code",
      "execution_count": 4,
      "metadata": {
        "colab": {
          "base_uri": "https://localhost:8080/"
        },
        "id": "LybNY8WO-1Ow",
        "outputId": "6f80f3ca-4655-4a0f-eda5-2d8a912f2b5e"
      },
      "outputs": [
        {
          "name": "stdout",
          "output_type": "stream",
          "text": [
            "[('John', 'Doe', 50000)]\n",
            "[('John', 'Doe', 50000), ('John', 'Doe', 80000), ('Jane', 'Doe', 90000)]\n",
            "[('Jane', 'Lee', 190000)]\n",
            "[('Jane', 'Doe', 95000)]\n",
            "[('Jane', 'Doe', 95000), ('Jane', 'Lee', 190000), ('Yuna', 'Kim', 190000)]\n",
            "[]\n"
          ]
        }
      ],
      "source": [
        "import sqlite3\n",
        "\n",
        "from employee import Employee\n",
        "\n",
        "conn = sqlite3.connect(':memory')\n",
        "c = conn.cursor()\n",
        "\n",
        "c.execute('''CREATE TABLE employees\n",
        "            (first text, last text, pay integer)''')\n",
        "\n",
        "def insert_emp(emp):\n",
        "    with conn:\n",
        "        c.execute(\"INSERT INTO employees VALUES (:first, :last, :pay)\",\n",
        "                  {'first': emp.first, 'last': emp.last, 'pay': emp.pay})\n",
        "\n",
        "def get_emps_by_name(lastname):\n",
        "    c.execute(\"SELECT * FROM employees WHERE last=:last\", {'last': lastname})\n",
        "    return c.fetchall()\n",
        "\n",
        "def get_all_emps():\n",
        "    c.execute(\"SELECT * FROM employees\")\n",
        "    return c.fetchall()\n",
        "\n",
        "def delete_all_emps():\n",
        "    with conn:\n",
        "        c.execute(\"DELETE FROM employees\")\n",
        "\n",
        "def update_pay(emp, pay):\n",
        "    with conn:\n",
        "        c.execute(\"UPDATE employees SET pay = :pay WHERE first = :first AND last = :last\",\n",
        "                  {'first': emp.first, 'last': emp.last, 'pay': pay})\n",
        "\n",
        "#Sample usage\n",
        "e = Employee(\"John\", \"Doe\", 50000)\n",
        "insert_emp(e)\n",
        "\n",
        "print(get_emps_by_name(\"Doe\"))\n",
        "\n",
        "def remove_emp(emp):\n",
        "    with conn:\n",
        "        c.execute(\"DELETE from employees WHERE first = :first AND last = :last\",\n",
        "                  {'first': emp.first, 'last': emp.last})\n",
        "\n",
        "emp_1 = Employee(\"John\", \"Doe\", 80000)\n",
        "emp_2 = Employee(\"Jane\", \"Doe\", 90000)\n",
        "emp_3 = Employee(\"Jane\", \"Lee\", 190000)\n",
        "emp_4 = Employee(\"Yuna\", \"Kim\", 190000)\n",
        "\n",
        "insert_emp(emp_1)\n",
        "insert_emp(emp_2)\n",
        "insert_emp(emp_3)\n",
        "insert_emp(emp_4)\n",
        "\n",
        "emps = get_emps_by_name('Doe')\n",
        "print(emps)\n",
        "\n",
        "emps_l = get_emps_by_name('Lee')\n",
        "print(emps_l)\n",
        "\n",
        "update_pay(emp_2, 95000)\n",
        "remove_emp(emp_1)\n",
        "\n",
        "emps = get_emps_by_name('Doe')\n",
        "print(emps)\n",
        "\n",
        "all_emps = get_all_emps()\n",
        "print(all_emps)\n",
        "\n",
        "delete_all_emps()\n",
        "all_emps = get_all_emps()\n",
        "print(all_emps)\n",
        "\n",
        "conn.close()"
      ]
    },
    {
      "cell_type": "markdown",
      "metadata": {
        "id": "0CeEWO0vEbVl"
      },
      "source": [
        "# Nouvelle section"
      ]
    },
    {
      "cell_type": "code",
      "execution_count": null,
      "metadata": {
        "id": "8-TTg-21DJTf"
      },
      "outputs": [],
      "source": []
    }
  ],
  "metadata": {
    "colab": {
      "provenance": []
    },
    "kernelspec": {
      "display_name": "Python 3",
      "name": "python3"
    },
    "language_info": {
      "name": "python"
    }
  },
  "nbformat": 4,
  "nbformat_minor": 0
}
