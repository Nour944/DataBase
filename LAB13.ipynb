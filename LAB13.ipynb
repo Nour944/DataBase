{
  "nbformat": 4,
  "nbformat_minor": 0,
  "metadata": {
    "colab": {
      "provenance": []
    },
    "kernelspec": {
      "name": "python3",
      "display_name": "Python 3"
    },
    "language_info": {
      "name": "python"
    }
  },
  "cells": [
    {
      "cell_type": "code",
      "execution_count": 1,
      "metadata": {
        "colab": {
          "base_uri": "https://localhost:8080/"
        },
        "id": "u22P6_S-HR32",
        "outputId": "598bfd02-0104-4071-da49-51a59f689161"
      },
      "outputs": [
        {
          "output_type": "stream",
          "name": "stdout",
          "text": [
            "Query plan with index: [(1, 'Alice', 'HR', 70000), (3, 'Charlie', 'HR', 75000)]\n",
            "Query plan without index: [(1, 'Alice', 'HR', 70000), (3, 'Charlie', 'HR', 75000)]\n"
          ]
        }
      ],
      "source": [
        "import sqlite3\n",
        "#Connect to SQLite database\n",
        "conn = sqlite3. connect ('Lab13.db')\n",
        "c = conn. cursor()\n",
        "#Create a sample table\n",
        "c.execute(\"\"'CREATE TABLE IF NOT EXISTS employees (id INTEGER PRIMARY KEY, name TEXT, department TEXT, salary INTEGER) '\"\")\n",
        "#Example 1: Efficient Indexing\n",
        "#Description: This example demonstrates how to create an index on the 'department' column.\n",
        "#The index will improve the performance of queries filtering by department\n",
        "#Adding some sample data\n",
        "sample_data = [(1, 'Alice', 'HR', 70000), (2, 'Bob', 'Engineering', 80000), (3, 'Charlie', 'HR', 75000)]\n",
        "c.executemany( 'INSERT INTO employees VALUES (?,?,?,?)', sample_data)\n",
        "#Creating an index\n",
        "c.execute ('CREATE INDEX idx_department ON employees (department)')\n",
        "#Comment: Indexes can significantly improve the performance of queries that filter or sort based on the indexed column.\n",
        "#However, they can also slow down data insertion and updates. Therefore, use them judiciously.\n",
        "#Querying with and without the index\n",
        "c.execute('SELECT * FROM employees WHERE department = \"HR\"')\n",
        "print(\"Query plan with index:\", c.fetchall ())\n",
        "#Drop the index\n",
        "c.execute( 'DROP INDEX idx_department')\n",
        "c.execute ('SELECT * FROM employees WHERE department = \"HR\"')\n",
        "print (\"Query plan without index:\", c. fetchall ())\n",
        "#Cleanup\n",
        "conn. commit ()\n",
        "conn. close()"
      ]
    },
    {
      "cell_type": "code",
      "source": [
        "import sqlite3\n",
        "\n",
        "#Connect to SQLite database\n",
        "conn = sqlite3.connect('Lab13.db')\n",
        "c = conn.cursor()\n",
        "\n",
        "#Create a sample table\n",
        "c.execute('CREATE TABLE IF NOT EXISTS products (id INTEGER PRIMARY KEY, name TEXT, category TEXT, price INTEGER)')\n",
        "\n",
        "#Adding some sample data\n",
        "sample_data = [(1, 'Laptop', 'Electronics', 1200), (2, 'Chair', 'Furniture', 150), (3, 'Smartphone', 'Electronics', 800)]\n",
        "c.executemany('INSERT INTO products VALUES (?, ?, ?, ?)', sample_data)\n",
        "\n",
        "#Query optimization example\n",
        "#Efficient query: selecting specific columns and filtering\n",
        "c.execute('SELECT name, price FROM products WHERE category = \"Electronics\"')\n",
        "print(\"Efficient query results:\", c.fetchall())\n",
        "\n",
        "#Cleanup\n",
        "conn.commit()\n",
        "conn.close()"
      ],
      "metadata": {
        "colab": {
          "base_uri": "https://localhost:8080/"
        },
        "id": "kQU7QBzZHj80",
        "outputId": "a83cf9b9-0c15-4cef-9da9-c9c7801a3a64"
      },
      "execution_count": 2,
      "outputs": [
        {
          "output_type": "stream",
          "name": "stdout",
          "text": [
            "Efficient query results: [('Laptop', 1200), ('Smartphone', 800)]\n"
          ]
        }
      ]
    },
    {
      "cell_type": "code",
      "source": [
        "import sqlite3\n",
        "\n",
        "#Connect to SQLite database\n",
        "conn = sqlite3.connect('Lab13.db')\n",
        "c = conn.cursor()\n",
        "\n",
        "#Create a sample table\n",
        "c.execute('CREATE TABLE IF NOT EXISTS orders (id INTEGER PRIMARY KEY, product_id INTEGER, quantity INTEGER)')\n",
        "\n",
        "#Transaction optimization example\n",
        "#\n",
        "#Description: This example demonstrates the use of transactions to optimize bulk data insertions.\n",
        "#Start a transaction\n",
        "conn.execute('BEGIN TRANSACTION')\n",
        "\n",
        "#Bulk insert data\n",
        "bulk_data = [(i % 5 + 1, i * 2) for i in range(1, 1001)]\n",
        "c.executemany('INSERT INTO orders (product_id, quantity) VALUES (?,?)', bulk_data)\n",
        "\n",
        "#Commit the transaction\n",
        "conn.commit()\n",
        "\n",
        "#Verify data insertion\n",
        "c.execute('SELECT COUNT(*) FROM orders')\n",
        "print(\"Number of records inserted:\", c.fetchone()[0])\n",
        "\n",
        "#Cleanup\n",
        "conn.close()"
      ],
      "metadata": {
        "colab": {
          "base_uri": "https://localhost:8080/"
        },
        "id": "kHjoXaWgQ5Mq",
        "outputId": "593b1a85-6b4d-4cef-ab3f-d14ee90ad591"
      },
      "execution_count": 3,
      "outputs": [
        {
          "output_type": "stream",
          "name": "stdout",
          "text": [
            "Number of records inserted: 1000\n"
          ]
        }
      ]
    },
    {
      "cell_type": "code",
      "source": [
        "import sqlite3\n",
        "\n",
        "# Connect to SQLite database\n",
        "conn = sqlite3.connect('example.db')\n",
        "c = conn.cursor()\n",
        "\n",
        "# Create sample tables\n",
        "c.execute('''CREATE TABLE IF NOT EXISTS students (\n",
        "                id INTEGER PRIMARY KEY,\n",
        "                name TEXT,\n",
        "                class_id INTEGER)''')\n",
        "\n",
        "c.execute('''CREATE TABLE IF NOT EXISTS classes (\n",
        "                id INTEGER PRIMARY KEY,\n",
        "                class_name TEXT)''')\n",
        "\n",
        "# Adding some sample data\n",
        "students_data = [(1, 'John', 1), (2, 'Emma', 2), (3, 'Harry', 1)]\n",
        "classes_data = [(1, 'Math'), (2, 'Science')]\n",
        "\n",
        "c.executemany('INSERT INTO students VALUES (?,?,?)', students_data)\n",
        "c.executemany('INSERT INTO classes VALUES (?,?)', classes_data)\n",
        "\n",
        "# Efficient Joins example\n",
        "# Description: This example demonstrates how to perform an efficient join between two tables\n",
        "\n",
        "# Efficient join query\n",
        "c.execute('''SELECT students.name, classes.class_name\n",
        "             FROM students\n",
        "             JOIN classes ON students.class_id = classes.id''')\n",
        "\n",
        "print(\"Join results:\", c.fetchall())\n",
        "\n",
        "# Cleanup\n",
        "conn.commit()\n",
        "conn.close()"
      ],
      "metadata": {
        "colab": {
          "base_uri": "https://localhost:8080/"
        },
        "id": "6p-MnsftSwkx",
        "outputId": "51b86c5f-2586-48ca-a0b7-3889d9a4db55"
      },
      "execution_count": 4,
      "outputs": [
        {
          "output_type": "stream",
          "name": "stdout",
          "text": [
            "Join results: [('John', 'Math'), ('Emma', 'Science'), ('Harry', 'Math')]\n"
          ]
        }
      ]
    }
  ]
}