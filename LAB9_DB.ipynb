{
  "cells": [
    {
      "cell_type": "code",
      "execution_count": null,
      "metadata": {
        "colab": {
          "base_uri": "https://localhost:8080/"
        },
        "id": "h_oVqQ8V4fbQ",
        "outputId": "b332ca5e-6cca-4fab-f153-930de0622be6"
      },
      "outputs": [],
      "source": [
        "!pip install ipython-sql"
      ]
    },
    {
      "cell_type": "code",
      "execution_count": null,
      "metadata": {
        "id": "Ccb1JlI84oDP"
      },
      "outputs": [],
      "source": [
        "import sqlite3\n",
        "import pandas as pd\n",
        "%load_ext sql"
      ]
    },
    {
      "cell_type": "code",
      "execution_count": null,
      "metadata": {
        "id": "xwgHoHfJ4oF6"
      },
      "outputs": [],
      "source": [
        "# Connect to SQLite database (or create it if it doesn’t exist)\n",
        "conn = sqlite3.connect(\"lab9.db\")\n",
        "c = conn.cursor()"
      ]
    },
    {
      "cell_type": "code",
      "execution_count": null,
      "metadata": {
        "id": "pSPYgJm44oLX"
      },
      "outputs": [],
      "source": [
        "# Define SQL commands\n",
        "commands = [\n",
        "    # Create 'students' table\n",
        "    \"\"\"\n",
        "    CREATE TABLE IF NOT EXISTS students (\n",
        "        student_id INTEGER PRIMARY KEY,\n",
        "        first_name TEXT,\n",
        "        last_name TEXT,\n",
        "        major TEXT\n",
        "    );\n",
        "    \"\"\",\n",
        "\n",
        "    # Insert data into 'students' table\n",
        "    \"\"\"\n",
        "    INSERT INTO students (first_name, last_name, major) VALUES\n",
        "        ('John', 'Doe', 'Computer Science'),\n",
        "        ('Jane', 'Doe', 'Mathematics'),\n",
        "        ('Mike', 'Jordan', 'Physics');\n",
        "    \"\"\",\n",
        "\n",
        "    # Create 'departments' table\n",
        "    \"\"\"\n",
        "    CREATE TABLE IF NOT EXISTS departments (\n",
        "        department_id INTEGER PRIMARY KEY,\n",
        "        department_name TEXT\n",
        "    );\n",
        "    \"\"\",\n",
        "\n",
        "    # Insert data into 'departments' table\n",
        "    \"\"\"\n",
        "    INSERT INTO departments (department_name) VALUES\n",
        "        ('Computer Science'),\n",
        "        ('Mathematics'),\n",
        "        ('Physics'),\n",
        "        ('Chemistry');\n",
        "    \"\"\",\n",
        "\n",
        "    # Create 'instructors' table\n",
        "    \"\"\"\n",
        "    CREATE TABLE IF NOT EXISTS instructors (\n",
        "        instructor_id INTEGER PRIMARY KEY,\n",
        "        first_name TEXT,\n",
        "        last_name TEXT,\n",
        "        department_id INTEGER,\n",
        "        FOREIGN KEY (department_id) REFERENCES departments(department_id)\n",
        "    );\n",
        "    \"\"\",\n",
        "\n",
        "    # Insert data into 'instructors' table\n",
        "    \"\"\"\n",
        "    INSERT INTO instructors (first_name, last_name, department_id) VALUES\n",
        "        ('Robert', 'Smith', 1),\n",
        "        ('Susan', 'Johnson', 2),\n",
        "        ('Michael', 'Brown', 3),\n",
        "        ('Elizabeth', 'Taylor', 4);\n",
        "    \"\"\",\n",
        "\n",
        "    # Create 'courses' table\n",
        "    \"\"\"\n",
        "    CREATE TABLE IF NOT EXISTS courses (\n",
        "        course_id INTEGER PRIMARY KEY,\n",
        "        course_name TEXT,\n",
        "        department_id INTEGER,\n",
        "        instructor_id INTEGER,\n",
        "        FOREIGN KEY (department_id) REFERENCES departments(department_id),\n",
        "        FOREIGN KEY (instructor_id) REFERENCES instructors(instructor_id)\n",
        "    );\n",
        "    \"\"\",\n",
        "\n",
        "    # Insert data into 'courses' table\n",
        "    \"\"\"\n",
        "    INSERT INTO courses (course_name, department_id, instructor_id) VALUES\n",
        "        ('Database Systems', 1, 1),\n",
        "        ('Data Structures', 1, 2),\n",
        "        ('Linear Algebra', 2, 3),\n",
        "        ('Quantum Mechanics', 3, 4);\n",
        "    \"\"\",\n",
        "\n",
        "    # Create 'enrollments' table\n",
        "    \"\"\"\n",
        "    CREATE TABLE IF NOT EXISTS enrollments (\n",
        "        enrollment_id INTEGER PRIMARY KEY,\n",
        "        student_id INTEGER,\n",
        "        course_id INTEGER,\n",
        "        FOREIGN KEY (student_id) REFERENCES students(student_id),\n",
        "        FOREIGN KEY (course_id) REFERENCES courses(course_id)\n",
        "    );\n",
        "    \"\"\",\n",
        "\n",
        "    # Insert data into 'enrollments' table\n",
        "    \"\"\"\n",
        "    INSERT INTO enrollments (student_id, course_id) VALUES\n",
        "        (1, 1),\n",
        "        (1, 2),\n",
        "        (2, 3),\n",
        "        (3, 4);\n",
        "    \"\"\"\n",
        "]\n",
        "\n",
        "# Execute SQL commands\n",
        "for command in commands:\n",
        "    c.execute(command)\n",
        "\n",
        "# Commit changes and close the connection\n",
        "conn.commit()\n",
        "conn.close()"
      ]
    },
    {
      "cell_type": "code",
      "execution_count": null,
      "metadata": {
        "colab": {
          "base_uri": "https://localhost:8080/",
          "height": 173
        },
        "id": "f4R1zq7s4oNg",
        "outputId": "11dbfd4e-b131-4e82-a156-d14b9a409791"
      },
      "outputs": [],
      "source": [
        "# Reconnect to the SQLite database\n",
        "conn = sqlite3.connect(\"lab9.db\")\n",
        "# Execute INNER JOIN query and visualize the result\n",
        "inner_join_query = \"\"\"\n",
        "SELECT students.first_name AS student_name , courses.course_name FROM students\n",
        "INNER JOIN enrollments ON students.student_id = enrollments. student_id\n",
        "INNER JOIN courses ON enrollments.course_id = courses.course_id; \"\"\"\n",
        "inner_join_df = pd.read_sql_query(inner_join_query , conn)\n",
        "inner_join_df"
      ]
    },
    {
      "cell_type": "code",
      "execution_count": null,
      "metadata": {
        "colab": {
          "base_uri": "https://localhost:8080/",
          "height": 173
        },
        "id": "W1Ii8Kqf4oQY",
        "outputId": "650260a8-cec3-4781-931b-a20b112e9d07"
      },
      "outputs": [],
      "source": [
        "# Execute LEFT JOIN query and visualize the result\n",
        "left_join_query = \"\"\"\n",
        "SELECT students.first_name AS student_name , courses.course_name\n",
        "FROM students\n",
        "LEFT JOIN enrollments ON students.student_id = enrollments.\n",
        "student_id\n",
        "LEFT JOIN courses ON enrollments.course_id = courses.course_id;\n",
        "\"\"\"\n",
        "left_join_df = pd.read_sql_query(left_join_query , conn)\n",
        "left_join_df"
      ]
    },
    {
      "cell_type": "code",
      "execution_count": null,
      "metadata": {
        "colab": {
          "base_uri": "https://localhost:8080/",
          "height": 173
        },
        "id": "-T2Q2Amd6UJA",
        "outputId": "58346681-2042-458f-ab0c-5b504c513f92"
      },
      "outputs": [],
      "source": [
        "# Reconnect to the SQLite database\n",
        "conn = sqlite3.connect(\"lab9.db\")\n",
        "# Execute FULL JOIN query (emulated) and visualize the result\n",
        "full_join_query_1 = \"\"\"\n",
        "WITH RECURSIVE full_join AS (\n",
        "SELECT students.first_name AS student_name , courses.course_name\n",
        "FROM students\n",
        "LEFT JOIN enrollments ON students.student_id = enrollments.\n",
        "student_id\n",
        "LEFT JOIN courses ON enrollments.course_id = courses.course_id\n",
        "UNION ALL\n",
        "SELECT students.first_name AS student_name , courses.course_name\n",
        "FROM courses\n",
        "LEFT JOIN enrollments ON courses.course_id = enrollments.\n",
        "course_id\n",
        "LEFT JOIN students ON enrollments.student_id = students.\n",
        "student_id\n",
        "WHERE students.student_id IS NULL\n",
        ")\n",
        "SELECT * FROM full_join;\n",
        "\"\"\"\n",
        "full_join_df_1 = pd.read_sql_query(full_join_query_1 , conn)\n",
        "full_join_df_1"
      ]
    },
    {
      "cell_type": "code",
      "execution_count": null,
      "metadata": {
        "colab": {
          "base_uri": "https://localhost:8080/",
          "height": 555
        },
        "id": "Fzpfvhi66ULo",
        "outputId": "8dd85363-dfc3-4032-948c-2406e234cfea"
      },
      "outputs": [],
      "source": [
        "# Reconnect to the SQLite database\n",
        "conn = sqlite3.connect(\"lab9.db\")\n",
        "# Execute Subquery and visualize the result\n",
        "subquery_example_1 = \"\"\"\n",
        "SELECT first_name , last_name\n",
        "FROM students\n",
        "WHERE student_id IN ( SELECT student_id\n",
        "FROM enrollments WHERE course_id IN (\n",
        "SELECT course_id FROM courses\n",
        "WHERE course_name = ’Database Systems’ )\n",
        "); \"\"\"\n",
        "subquery_df_1 = pd.read_sql_query(subquery_example_1 , conn)\n",
        "subquery_df_1"
      ]
    },
    {
      "cell_type": "code",
      "execution_count": null,
      "metadata": {
        "colab": {
          "base_uri": "https://localhost:8080/",
          "height": 111
        },
        "id": "q8Si9jUk6ime",
        "outputId": "301a0cc8-9814-4cd5-9557-0a5af2e4bbfe"
      },
      "outputs": [],
      "source": [
        "# Execute Subquery and visualize the result\n",
        "subquery_example_2 = \"\"\"\n",
        "SELECT course_name FROM courses\n",
        "WHERE department_id = (\n",
        "SELECT department_id FROM departments\n",
        "WHERE department_name ='Computer Science' );\n",
        "\"\"\"\n",
        "subquery_df_2 = pd.read_sql_query(subquery_example_2 , conn)\n",
        "subquery_df_2"
      ]
    },
    {
      "cell_type": "code",
      "execution_count": null,
      "metadata": {
        "colab": {
          "base_uri": "https://localhost:8080/",
          "height": 173
        },
        "id": "GavDmOO16iqJ",
        "outputId": "37ebc1f7-16fb-436a-d60c-dec8730490d8"
      },
      "outputs": [],
      "source": [
        "# Reconnect to the SQLite database\n",
        "conn = sqlite3.connect(\"lab9.db\")\n",
        "# Execute Aggregate Function query and visualize the result\n",
        "agg_function_example_1 = \"\"\"\n",
        "SELECT departments.department_name , COUNT(DISTINCT instructors.\n",
        "instructor_id) AS instructor_count FROM departments\n",
        "LEFT JOIN instructors ON departments.department_id = instructors.\n",
        "department_id\n",
        "GROUP BY departments.department_name;\n",
        "\"\"\"\n",
        "agg_df_1 = pd.read_sql_query(agg_function_example_1 , conn)\n",
        "agg_df_1"
      ]
    },
    {
      "cell_type": "code",
      "execution_count": null,
      "metadata": {
        "colab": {
          "base_uri": "https://localhost:8080/",
          "height": 173
        },
        "id": "OcYt3gUg6iv5",
        "outputId": "4732fe2b-185e-4966-885d-42f1b31bd9c0"
      },
      "outputs": [],
      "source": [
        "# Execute Aggregate Function query and visualize the result\n",
        "agg_function_example_2 = \"\"\"\n",
        "SELECT courses.course_name , COUNT(DISTINCT enrollments.student_id)\n",
        "AS student_count FROM courses\n",
        "LEFT JOIN enrollments ON courses.course_id = enrollments.course_id GROUP BY courses.course_name\n",
        "HAVING student_count > 0; \"\"\"\n",
        "agg_df_2 = pd.read_sql_query(agg_function_example_2 , conn)\n",
        "agg_df_2"
      ]
    },
    {
      "cell_type": "code",
      "execution_count": null,
      "metadata": {
        "colab": {
          "base_uri": "https://localhost:8080/"
        },
        "id": "Vc8H6lQOnX_5",
        "outputId": "e1144b8c-eb36-4850-c116-e6994ee0510a"
      },
      "outputs": [],
      "source": [
        "conn = sqlite3.connect('lab9.db')\n",
        "c = conn.cursor()\n",
        "\n",
        "count_courses_query = \"\"\"\n",
        "SELECT d.department_name, COUNT(c.course_id) AS course_count\n",
        "FROM departments d\n",
        "LEFT JOIN courses c ON d.department_id = c.department_id\n",
        "GROUP BY d.department_name\n",
        "\"\"\"\n",
        "\n",
        "try:\n",
        "    c.execute(count_courses_query)\n",
        "\n",
        "    results = c.fetchall()\n",
        "\n",
        "    for row in results:\n",
        "        department_name, course_count = row\n",
        "        print(f\"Department: {department_name}, Number of Courses: {course_count}\")\n",
        "finally:\n",
        "    # Close the cursor and the database connection\n",
        "    c.close()\n",
        "    conn.close()"
      ]
    },
    {
      "cell_type": "code",
      "execution_count": null,
      "metadata": {
        "colab": {
          "base_uri": "https://localhost:8080/"
        },
        "id": "VWsOVqa3nYuK",
        "outputId": "ffab5a82-3f6a-4da8-93b1-e7890887d964"
      },
      "outputs": [],
      "source": [
        "conn = sqlite3.connect('lab9.db')\n",
        "c = conn.cursor()\n",
        "\n",
        "count_instructors_query = \"\"\"\n",
        "SELECT d.department_name, COUNT(i.instructor_id) AS instructor_count\n",
        "FROM departments d\n",
        "LEFT JOIN instructors i ON d.department_id = i.department_id\n",
        "GROUP BY d.department_name\n",
        "\"\"\"\n",
        "\n",
        "try:\n",
        "    c.execute(count_instructors_query)\n",
        "\n",
        "    results = c.fetchall()\n",
        "\n",
        "    for row in results:\n",
        "        department_name, instructor_count = row\n",
        "        print(f\"Department: {department_name}, Number of Instructors: {instructor_count}\")\n",
        "finally:\n",
        "    c.close()\n",
        "    conn.close()"
      ]
    },
    {
      "cell_type": "code",
      "execution_count": null,
      "metadata": {
        "colab": {
          "base_uri": "https://localhost:8080/"
        },
        "id": "Sh5Pq48NooUj",
        "outputId": "bfc2fd68-96f9-4d71-ad5e-4127e8e699f7"
      },
      "outputs": [],
      "source": [
        "conn = sqlite3.connect('lab9.db')\n",
        "c = conn.cursor()\n",
        "\n",
        "average_students_per_course_query = \"\"\"\n",
        "SELECT d.department_name, AVG(enrollment_count) AS average_students_per_course\n",
        "FROM departments d\n",
        "LEFT JOIN (\n",
        "    SELECT c.department_id, COUNT(e.student_id) AS enrollment_count\n",
        "    FROM courses c\n",
        "    LEFT JOIN enrollments e ON c.course_id = e.course_id\n",
        "    GROUP BY c.department_id\n",
        ") subquery\n",
        "ON d.department_id = subquery.department_id\n",
        "GROUP BY d.department_name\n",
        "\"\"\"\n",
        "\n",
        "try:\n",
        "    c.execute(average_students_per_course_query)\n",
        "\n",
        "    results = c.fetchall()\n",
        "\n",
        "    for row in results:\n",
        "        department_name, average_students_per_course = row\n",
        "        if average_students_per_course is not None:\n",
        "            print(f\"Department: {department_name}, Average Students Per Course: {average_students_per_course:.2f}\")\n",
        "        else:\n",
        "            print(f\"Department: {department_name}, No Courses or Enrollments\")\n",
        "finally:\n",
        "    c.close()\n",
        "    conn.close()"
      ]
    }
  ],
  "metadata": {
    "colab": {
      "provenance": []
    },
    "kernelspec": {
      "display_name": "Python 3",
      "name": "python3"
    },
    "language_info": {
      "name": "python"
    }
  },
  "nbformat": 4,
  "nbformat_minor": 0
}
