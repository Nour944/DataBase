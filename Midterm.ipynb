{
  "nbformat": 4,
  "nbformat_minor": 0,
  "metadata": {
    "colab": {
      "provenance": []
    },
    "kernelspec": {
      "name": "python3",
      "display_name": "Python 3"
    },
    "language_info": {
      "name": "python"
    }
  },
  "cells": [
    {
      "cell_type": "code",
      "execution_count": 1,
      "metadata": {
        "id": "HJ1yFESbQoHP"
      },
      "outputs": [],
      "source": [
        "import sqlite3"
      ]
    },
    {
      "cell_type": "code",
      "source": [
        "conn = sqlite3.connect('ITS_database.db')\n",
        "print(\"Opened database successfully\")"
      ],
      "metadata": {
        "colab": {
          "base_uri": "https://localhost:8080/"
        },
        "id": "P08ZbYaoQ3uF",
        "outputId": "3a003642-9980-4a0c-e865-9604bcb61072"
      },
      "execution_count": 2,
      "outputs": [
        {
          "output_type": "stream",
          "name": "stdout",
          "text": [
            "Opened database successfully\n"
          ]
        }
      ]
    },
    {
      "cell_type": "code",
      "source": [
        "conn.execute('''\n",
        "CREATE  TABLE coutries (\n",
        "\tcountry_code         CHAR(13)  NOT NULL     PRIMARY KEY,\n",
        "\tcountry_name         VARCHAR(100)  NOT NULL\n",
        " )\n",
        "''')\n",
        "print(\"Table created successfully\")"
      ],
      "metadata": {
        "colab": {
          "base_uri": "https://localhost:8080/"
        },
        "id": "nt9auH4mQ3-l",
        "outputId": "def34b02-abc5-43be-9ade-16bce016c2be"
      },
      "execution_count": 3,
      "outputs": [
        {
          "output_type": "stream",
          "name": "stdout",
          "text": [
            "Table created successfully\n"
          ]
        }
      ]
    },
    {
      "cell_type": "code",
      "source": [
        "conn.execute('ALTER TABLE coutries RENAME TO countries;')"
      ],
      "metadata": {
        "colab": {
          "base_uri": "https://localhost:8080/"
        },
        "id": "2c2zTKC9TvOD",
        "outputId": "323aea7f-7b9c-410a-d0fd-0d3d0c4672be"
      },
      "execution_count": 4,
      "outputs": [
        {
          "output_type": "execute_result",
          "data": {
            "text/plain": [
              "<sqlite3.Cursor at 0x7c2704240ac0>"
            ]
          },
          "metadata": {},
          "execution_count": 4
        }
      ]
    },
    {
      "cell_type": "code",
      "source": [
        "conn.execute('''\n",
        "CREATE  TABLE requests (\n",
        "\tid_requests          INT  NOT NULL     PRIMARY KEY,\n",
        "\t`r.model`            VARCHAR(50)       ,\n",
        "\t`r.color`            VARCHAR(50)       ,\n",
        "\t`r.clearance_level`  VARCHAR(50)       ,\n",
        "\t`r.fatl`             BOOLEAN       ,\n",
        "\t`r.stlvt`            BOOLEAN\n",
        " )\n",
        "''')\n",
        "print(\"Table created successfully\")"
      ],
      "metadata": {
        "colab": {
          "base_uri": "https://localhost:8080/"
        },
        "id": "g5c_nKcJQ4A7",
        "outputId": "53001358-fed0-401a-d5b6-f20e3b14a69e"
      },
      "execution_count": 5,
      "outputs": [
        {
          "output_type": "stream",
          "name": "stdout",
          "text": [
            "Table created successfully\n"
          ]
        }
      ]
    },
    {
      "cell_type": "code",
      "source": [
        "conn = sqlite3.connect('ITS_database.db')\n",
        "conn.execute('''\n",
        "CREATE TABLE vehicle (\n",
        "\tvehicle_id           CHAR(5)  NOT NULL     PRIMARY KEY,\n",
        "\tregistration_id      VARCHAR(10),\n",
        "\tmanufacturer         VARCHAR(50)  NOT NULL,\n",
        "\tmodel                VARCHAR(50),\n",
        "\tcolor                VARCHAR(50),\n",
        "\tcurrent_odometer     INT,\n",
        "\tpassenger_capacity   INT  NOT NULL,\n",
        "\tavailability         BOOLEAN  NOT NULL\n",
        ")\n",
        "''')\n",
        "print(\"Table created successfully\")"
      ],
      "metadata": {
        "colab": {
          "base_uri": "https://localhost:8080/"
        },
        "id": "VeoYcgyzQ4DS",
        "outputId": "cce403a8-240b-49e8-d408-e5aee945df34"
      },
      "execution_count": 6,
      "outputs": [
        {
          "output_type": "stream",
          "name": "stdout",
          "text": [
            "Table created successfully\n"
          ]
        }
      ]
    },
    {
      "cell_type": "code",
      "source": [
        "conn.execute('''\n",
        "CREATE  TABLE `vehicle.state` (\n",
        "\tstate_id             VARCHAR(5)  NOT NULL     PRIMARY KEY,\n",
        "\taction_type          CHAR(1)  NOT NULL     ,\n",
        "\todometer             INT       ,\n",
        "\tfinal_cost           FLOAT       ,\n",
        "\tbrief_description    CHAR(100)       ,\n",
        "\taction_date          DATE       ,\n",
        "\tvehicle_id           CHAR(5)  NOT NULL     ,\n",
        "\tCONSTRAINT `fk_vehicle.state_vehicles` FOREIGN KEY ( vehicle_id ) REFERENCES vehicle( vehicle_id ) ON DELETE NO ACTION ON UPDATE NO ACTION\n",
        " )\n",
        "''')\n",
        "print(\"Table created successfully\")"
      ],
      "metadata": {
        "colab": {
          "base_uri": "https://localhost:8080/"
        },
        "id": "y6Zpyi3LQ4Fu",
        "outputId": "5cd90aa4-5e5d-4303-bbaf-9a6b971e2ef8"
      },
      "execution_count": 7,
      "outputs": [
        {
          "output_type": "stream",
          "name": "stdout",
          "text": [
            "Table created successfully\n"
          ]
        }
      ]
    },
    {
      "cell_type": "code",
      "source": [
        "conn.execute('''\n",
        "CREATE  TABLE driver_info (\n",
        "\tdriver_id            INT  NOT NULL     PRIMARY KEY,\n",
        "\tdriver_name          VARCHAR(100)       ,\n",
        "\tlicense_number       CHAR(18)       ,\n",
        "\tclearance_level      INT  NOT NULL     ,\n",
        "\tfatl                 BOOLEAN  NOT NULL     ,\n",
        "\tstlvt                BOOLEAN  NOT NULL     ,\n",
        "\tdriver_preferred_langage CHAR(50)  NOT NULL     ,\n",
        "\tvehicle_id           CHAR(5)  NOT NULL     ,\n",
        "\tCONSTRAINT fk_driver_info_vehicle FOREIGN KEY ( vehicle_id ) REFERENCES vehicle( vehicle_id ) ON DELETE NO ACTION ON UPDATE NO ACTION\n",
        " )\n",
        "''')\n",
        "print(\"Table created successfully\")"
      ],
      "metadata": {
        "colab": {
          "base_uri": "https://localhost:8080/"
        },
        "id": "blVLnlraQ4II",
        "outputId": "ca2537c2-42f9-4a25-e866-1f73a8c550db"
      },
      "execution_count": 8,
      "outputs": [
        {
          "output_type": "stream",
          "name": "stdout",
          "text": [
            "Table created successfully\n"
          ]
        }
      ]
    },
    {
      "cell_type": "code",
      "source": [
        "conn.execute('''\n",
        "CREATE  TABLE fatl (\n",
        "\tlevel                INT       ,\n",
        "\tqualification_date   DATE       ,\n",
        "\tdriver_id            INT  NOT NULL     ,\n",
        "\tCONSTRAINT fk_fatl_driver_info FOREIGN KEY ( driver_id ) REFERENCES driver_info( driver_id ) ON DELETE NO ACTION ON UPDATE NO ACTION\n",
        " )\n",
        "''')\n",
        "print(\"Table created successfully\")"
      ],
      "metadata": {
        "colab": {
          "base_uri": "https://localhost:8080/"
        },
        "id": "rDPLf0uWQ4Kk",
        "outputId": "6b8eaccf-74f2-4bce-f68c-13a1688ba388"
      },
      "execution_count": 9,
      "outputs": [
        {
          "output_type": "stream",
          "name": "stdout",
          "text": [
            "Table created successfully\n"
          ]
        }
      ]
    },
    {
      "cell_type": "code",
      "source": [
        "conn.execute('''\n",
        "CREATE  TABLE game_officials (\n",
        "\tofficial_id          CHAR(8)  NOT NULL     PRIMARY KEY,\n",
        "\tcountry              CHAR(50)       ,\n",
        "\tofficial_name        VARCHAR(100)       ,\n",
        "\tofficial_role        VARCHAR(50)       ,\n",
        "\tofficial_preferred_langage CHAR(50)  NOT NULL     ,\n",
        "\tid_requests          INT  NOT NULL     ,\n",
        "\tCONSTRAINT fk_game_officials_requests FOREIGN KEY ( id_requests ) REFERENCES requests( id_requests ) ON DELETE NO ACTION ON UPDATE NO ACTION\n",
        " )\n",
        "''')\n",
        "print(\"Table created successfully\")"
      ],
      "metadata": {
        "colab": {
          "base_uri": "https://localhost:8080/"
        },
        "id": "GjcsafH-Q4M6",
        "outputId": "c4b44719-1940-42da-c632-1d9721d27251"
      },
      "execution_count": 10,
      "outputs": [
        {
          "output_type": "stream",
          "name": "stdout",
          "text": [
            "Table created successfully\n"
          ]
        }
      ]
    },
    {
      "cell_type": "code",
      "source": [
        "conn.execute('''\n",
        "CREATE  TABLE stlvt (\n",
        "\tlevel                INT  NOT NULL     ,\n",
        "\tqualification_date   DATE       ,\n",
        "\tcertifying_authority CHAR(100)       ,\n",
        "\tdriver_id            INT  NOT NULL     ,\n",
        "\tCONSTRAINT fk_stlvt_driver_info FOREIGN KEY ( driver_id ) REFERENCES driver_info( driver_id ) ON DELETE NO ACTION ON UPDATE NO ACTION\n",
        " )\n",
        "''')\n",
        "print(\"Table created successfully\")"
      ],
      "metadata": {
        "colab": {
          "base_uri": "https://localhost:8080/"
        },
        "id": "PrPnH_hlQ4PQ",
        "outputId": "1fa615b5-c737-443c-dce9-a50a3196a316"
      },
      "execution_count": 11,
      "outputs": [
        {
          "output_type": "stream",
          "name": "stdout",
          "text": [
            "Table created successfully\n"
          ]
        }
      ]
    },
    {
      "cell_type": "code",
      "source": [
        "conn.execute('''\n",
        "CREATE  TABLE booking_service (\n",
        "\tbooking_reference_nb INT  NOT NULL     PRIMARY KEY,\n",
        "\tpick_up              TEXT(200)  NOT NULL     ,\n",
        "\tdrop_off             TEXT(200)  NOT NULL     ,\n",
        "\tstart_date           DATETIME  NOT NULL     ,\n",
        "\tend_date             DATETIME  NOT NULL     ,\n",
        "\tcurrent_odometer   INT       ,\n",
        "\tend_odometer         DATETIME       ,\n",
        "\tofficial_id          CHAR(8)  NOT NULL     ,\n",
        "\tdriver_id            INT  NOT NULL     ,\n",
        "\tCONSTRAINT fk_booking_service_vehicles FOREIGN KEY ( `current_odometer` ) REFERENCES vehicle( `current_odometer` ) ON DELETE NO ACTION ON UPDATE NO ACTION,\n",
        "\tCONSTRAINT fk_booking_service_game_officials FOREIGN KEY ( official_id ) REFERENCES game_officials( official_id ) ON DELETE NO ACTION ON UPDATE NO ACTION,\n",
        "\tCONSTRAINT fk_booking_service_driver_info FOREIGN KEY ( driver_id ) REFERENCES driver_info( driver_id ) ON DELETE NO ACTION ON UPDATE NO ACTION\n",
        " )\n",
        "''')\n",
        "print(\"Table created successfully\")"
      ],
      "metadata": {
        "colab": {
          "base_uri": "https://localhost:8080/"
        },
        "id": "Gh2wCae_Q4Ro",
        "outputId": "ade7f613-d6c3-4523-e774-3ddd618e0ccb"
      },
      "execution_count": 14,
      "outputs": [
        {
          "output_type": "stream",
          "name": "stdout",
          "text": [
            "Table created successfully\n"
          ]
        }
      ]
    },
    {
      "cell_type": "code",
      "source": [
        "# Connect to SQLite Database\n",
        "conn = sqlite3.connect('ITS_database.db')\n",
        "\n",
        "# List all tables in the database\n",
        "cursor = conn.execute(\"SELECT name FROM sqlite_master WHERE type='table';\")\n",
        "tables = [table[0] for table in cursor.fetchall()]\n",
        "print(\"List of tables in the database:\", tables)\n",
        "\n",
        "# Close the database connection\n",
        "conn.close()"
      ],
      "metadata": {
        "colab": {
          "base_uri": "https://localhost:8080/"
        },
        "id": "Hjl7JrM3Q4WF",
        "outputId": "ace7e419-2856-42be-b0ab-6f3af2649216"
      },
      "execution_count": 15,
      "outputs": [
        {
          "output_type": "stream",
          "name": "stdout",
          "text": [
            "List of tables in the database: ['countries', 'requests', 'vehicle', 'vehicle.state', 'driver_info', 'fatl', 'game_officials', 'stlvt', 'booking_service']\n"
          ]
        }
      ]
    },
    {
      "cell_type": "code",
      "source": [
        "conn = sqlite3.connect('ITS_database.db')\n",
        "conn.execute(\"INSERT INTO countries (country_code,country_name) VALUES ('ISO 3166-2:KR','South Korea');\")\n",
        "conn.execute(\"INSERT INTO countries (country_code,country_name) VALUES ('ISO 3166-2:MA','Morocco');\")\n",
        "conn.execute(\"INSERT INTO countries (country_code,country_name) VALUES ('ISO 3166-2:IR','Iran');\")\n",
        "conn.execute(\"INSERT INTO countries (country_code,country_name) VALUES ('ISO 3166-2:FR','France');\")\n",
        "conn.execute(\"INSERT INTO countries (country_code,country_name) VALUES ('ISO 3166-2:US','USA');\")\n",
        "\n",
        "conn.commit()\n",
        "print(\"Records inserted successfully\")"
      ],
      "metadata": {
        "colab": {
          "base_uri": "https://localhost:8080/"
        },
        "id": "LvdA4S1eSnfd",
        "outputId": "8ece235b-aee9-4ff2-93b6-67a2957c46ff"
      },
      "execution_count": 16,
      "outputs": [
        {
          "output_type": "stream",
          "name": "stdout",
          "text": [
            "Records inserted successfully\n"
          ]
        }
      ]
    },
    {
      "cell_type": "code",
      "source": [
        "def insert_vehicles():\n",
        "    conn = sqlite3.connect('ITS_database.db')\n",
        "    cursor = conn.cursor()\n",
        "\n",
        "    insert_queries = [\n",
        "        \"INSERT INTO vehicle (vehicle_id, registration_id, manufacturer, model, color, current_odometer, passenger_capacity, availability) VALUES ('V1000', '2001 ABC', 'Volvo', 'XC90 SE', 'Silver', 4350, 4, 1);\",\n",
        "        \"INSERT INTO vehicle (vehicle_id, registration_id, manufacturer, model, color, current_odometer, passenger_capacity, availability) VALUES ('V1001', '2006 AFD', 'Kia', 'K7', 'Black', 2195, 4, 0);\",\n",
        "        \"INSERT INTO vehicle (vehicle_id, registration_id, manufacturer, model, color, current_odometer, passenger_capacity, availability) VALUES ('V1002', '2021 AHR', 'Tesla', '2020 F', 'White', 509, 4, 0);\",\n",
        "        \"INSERT INTO vehicle (vehicle_id, registration_id, manufacturer, model, color, current_odometer, passenger_capacity, availability) VALUES ('V1003', '2020 DXF', 'Ford', 'Transit', 'Silver', 974, 2, 0);\",\n",
        "        \"INSERT INTO vehicle (vehicle_id, registration_id, manufacturer, model, color, current_odometer, passenger_capacity, availability) VALUES ('V1004', '2023 RTX', 'Chevrolet', 'Corvette', 'Blue', 270, 2, 1);\"\n",
        "    ]\n",
        "\n",
        "    for query in insert_queries:\n",
        "        cursor.execute(query)\n",
        "\n",
        "    conn.commit()\n",
        "    conn.close()\n",
        "\n",
        "    print(\"Records inserted successfully\")\n",
        "\n",
        "insert_vehicles()\n"
      ],
      "metadata": {
        "colab": {
          "base_uri": "https://localhost:8080/"
        },
        "id": "LSGddfzJe5ZM",
        "outputId": "38ca52c3-714a-4124-9322-c2116b7dfb8b"
      },
      "execution_count": 17,
      "outputs": [
        {
          "output_type": "stream",
          "name": "stdout",
          "text": [
            "Records inserted successfully\n"
          ]
        }
      ]
    },
    {
      "cell_type": "code",
      "source": [
        "conn = sqlite3.connect('ITS_database.db')\n",
        "conn.execute(\"INSERT INTO `vehicle.state` (state_id, action_type, odometer, final_cost, brief_description, action_date, vehicle_id) VALUES ('S1000', 'M', 4000, 250.50, 'Routine maintenance', '2023-10-10', 'V1000');\")\n",
        "conn.execute(\"INSERT INTO `vehicle.state` (state_id, action_type, odometer, final_cost, brief_description, action_date, vehicle_id) VALUES ('S1001', 'R', 2000, 350.25, 'Repair transmission', '2023-10-15', 'V1001');\")\n",
        "conn.execute(\"INSERT INTO `vehicle.state` (state_id, action_type, odometer, final_cost, brief_description, action_date, vehicle_id) VALUES ('S1002', 'M', 400, 180.75, 'Oil change', '2022-07-20', 'V1002');\")\n",
        "conn.execute(\"INSERT INTO `vehicle.state` (state_id, action_type, odometer, final_cost, brief_description, action_date, vehicle_id) VALUES ('S1003', 'R', 300, 425.00, 'Replace brakes', '2023-01-25', 'V1003');\")\n",
        "conn.execute(\"INSERT INTO `vehicle.state` (state_id, action_type, odometer, final_cost, brief_description, action_date, vehicle_id) VALUES ('S1004', 'M', 112, 210.80, 'Tire rotation', '2023-09-01', 'V1004');\")\n",
        "conn.commit()\n",
        "print(\"Records inserted successfully\")"
      ],
      "metadata": {
        "colab": {
          "base_uri": "https://localhost:8080/"
        },
        "id": "rbBKW-NFW1KX",
        "outputId": "c8f867ae-482c-4ab3-d7d2-d6d9b8f5c95f"
      },
      "execution_count": 18,
      "outputs": [
        {
          "output_type": "stream",
          "name": "stdout",
          "text": [
            "Records inserted successfully\n"
          ]
        }
      ]
    },
    {
      "cell_type": "code",
      "source": [
        "conn.execute(\"INSERT INTO driver_info (driver_id, driver_name, license_number, clearance_level, fatl, stlvt, driver_preferred_langage, vehicle_id) VALUES (1231, 'Marc Zhou', '135671638171635189', 4, true, true, 'English', 'V1000');\")\n",
        "conn.execute(\"INSERT INTO driver_info (driver_id, driver_name, license_number, clearance_level, fatl, stlvt, driver_preferred_langage, vehicle_id) VALUES (2303, 'Max Jin', '182937162836172937', 3, true, false, 'Spanish', 'V1001');\")\n",
        "conn.execute(\"INSERT INTO driver_info (driver_id, driver_name, license_number, clearance_level, fatl, stlvt, driver_preferred_langage, vehicle_id) VALUES (1039, 'Adam Khalil', '019273618435169786', 2, false, true, 'French', 'V1002');\")\n",
        "conn.execute(\"INSERT INTO driver_info (driver_id, driver_name, license_number, clearance_level, fatl, stlvt, driver_preferred_langage, vehicle_id) VALUES (7564, 'Clément Malon', '562810982910872618', 1, false, false, 'German', 'V1003');\")\n",
        "conn.execute(\"INSERT INTO driver_info (driver_id, driver_name, license_number, clearance_level, fatl, stlvt, driver_preferred_langage, vehicle_id) VALUES (1994, 'Nour Belabed', '102985675876548010', 3, true, true, 'Arabic', 'V1004');\")\n",
        "conn.commit()\n",
        "print(\"Records inserted successfully\")"
      ],
      "metadata": {
        "id": "AgYFx_TUW1Na"
      },
      "execution_count": null,
      "outputs": []
    },
    {
      "cell_type": "code",
      "source": [
        "conn.execute(\"INSERT INTO fatl (level, qualification_date, driver_id) VALUES (5, '2023-01-15', 1231);\")\n",
        "conn.execute(\"INSERT INTO fatl (level, qualification_date, driver_id) VALUES (8, '2023-02-20', 2303);\")\n",
        "conn.execute(\"INSERT INTO fatl (level, qualification_date, driver_id) VALUES (6, '2023-03-25', 1039);\")\n",
        "conn.execute(\"INSERT INTO fatl (level, qualification_date, driver_id) VALUES (9, '2023-04-30', 7564);\")\n",
        "conn.execute(\"INSERT INTO fatl (level, qualification_date, driver_id) VALUES (7, '2023-05-05', 1994);\")\n",
        "conn.commit()\n",
        "print(\"Records inserted successfully\")"
      ],
      "metadata": {
        "id": "AWyJ8eQJW1Ql",
        "colab": {
          "base_uri": "https://localhost:8080/"
        },
        "outputId": "03406a8f-8efb-41ac-d602-7352a7d555f8"
      },
      "execution_count": 20,
      "outputs": [
        {
          "output_type": "stream",
          "name": "stdout",
          "text": [
            "Records inserted successfully\n"
          ]
        }
      ]
    },
    {
      "cell_type": "code",
      "source": [
        "conn.execute(\"INSERT INTO stlvt (level, qualification_date, certifying_authority, driver_id) VALUES (3, '2023-01-15', 'Local Police Station', 1231);\")\n",
        "conn.execute(\"INSERT INTO stlvt (level, qualification_date, certifying_authority, driver_id) VALUES (5, '2023-02-20', 'Foreign Police Station', 2303);\")\n",
        "conn.execute(\"INSERT INTO stlvt (level, qualification_date, certifying_authority, driver_id) VALUES (4, '2023-03-25', 'Local Police Station', 1039);\")\n",
        "conn.execute(\"INSERT INTO stlvt (level, qualification_date, certifying_authority, driver_id) VALUES (2, '2023-04-30', 'Foreign Police Station', 7564);\")\n",
        "conn.execute(\"INSERT INTO stlvt (level, qualification_date, certifying_authority, driver_id) VALUES (1, '2023-05-05', 'Local Police Station', 1994);\")\n",
        "conn.commit()\n",
        "print(\"Records inserted successfully\")"
      ],
      "metadata": {
        "id": "jG9xQr7rW1TI",
        "colab": {
          "base_uri": "https://localhost:8080/"
        },
        "outputId": "75683b5c-2a1f-4ab3-e7be-e2ddd9b74cf3"
      },
      "execution_count": 21,
      "outputs": [
        {
          "output_type": "stream",
          "name": "stdout",
          "text": [
            "Records inserted successfully\n"
          ]
        }
      ]
    },
    {
      "cell_type": "code",
      "source": [
        "conn.execute(\"INSERT INTO game_officials (official_id, country, official_name, official_role, official_preferred_langage, id_requests) VALUES ('OF1000', 'USA', 'Mickael Jordan', 'Coach', 'English', 1);\")\n",
        "conn.execute(\"INSERT INTO game_officials (official_id, country, official_name, official_role, official_preferred_langage, id_requests) VALUES ('OF1001', 'France', 'Antoine Dupont', 'Judge', 'French', 2);\")\n",
        "conn.execute(\"INSERT INTO game_officials (official_id, country, official_name, official_role, official_preferred_langage, id_requests) VALUES ('OF1002', 'Germany', 'Hans Müller', 'Physician', 'German', 3);\")\n",
        "conn.execute(\"INSERT INTO game_officials (official_id, country, official_name, official_role, official_preferred_langage, id_requests) VALUES ('OF1003', 'Spain', 'Mateu Lahoz', 'Judge', 'Spanish', 4);\")\n",
        "conn.execute(\"INSERT INTO game_officials (official_id, country, official_name, official_role, official_preferred_langage, id_requests) VALUES ('OF1004', 'Italy', 'Herb Dean', 'Judge', 'Arabic', 5);\")\n",
        "conn.commit()\n",
        "print(\"Records inserted successfully\")"
      ],
      "metadata": {
        "id": "aUXO2VRwW1Y6",
        "colab": {
          "base_uri": "https://localhost:8080/"
        },
        "outputId": "b9fe9218-3dbb-4ddd-8ad3-3353c329112d"
      },
      "execution_count": 22,
      "outputs": [
        {
          "output_type": "stream",
          "name": "stdout",
          "text": [
            "Records inserted successfully\n"
          ]
        }
      ]
    },
    {
      "cell_type": "code",
      "source": [
        "conn.execute(\"INSERT INTO booking_service (booking_reference_nb, pick_up, drop_off, start_date, end_date, current_odometer, end_odometer, official_id, driver_id) VALUES (1, 'Incheon Golden Hotel', 'Incheon Airport', '2023-09-15 08:00:00', '2023-09-15 10:00:00', 4350, 4500, 'OF1000', 1231);\")\n",
        "conn.execute(\"INSERT INTO booking_service (booking_reference_nb, pick_up, drop_off, start_date, end_date, current_odometer, end_odometer, official_id, driver_id) VALUES (2, 'Incheon Stadium', 'Bupyeong-Gu Hotel', '2023-09-16 14:30:00', '2023-09-16 16:30:00', 2195, 2225, 'OF1001', 1039);\")\n",
        "conn.execute(\"INSERT INTO booking_service (booking_reference_nb, pick_up, drop_off, start_date, end_date, current_odometer, end_odometer, official_id, driver_id) VALUES (3, 'Incheon Airport', 'Incheon Stadium', '2023-09-17 11:15:00', '2023-09-17 13:15:00', 509, 530, 'OF1002', 7564);\")\n",
        "conn.execute(\"INSERT INTO booking_service (booking_reference_nb, pick_up, drop_off, start_date, end_date, current_odometer, end_odometer, official_id, driver_id) VALUES (4, 'Incheon Golden Hotel', 'Bupyeong-Gu Hotel', '2023-09-18 17:45:00', '2023-09-18 19:45:00', 974, 1000, 'OF1003', 2303);\")\n",
        "conn.execute(\"INSERT INTO booking_service (booking_reference_nb, pick_up, drop_off, start_date, end_date, current_odometer, end_odometer, official_id, driver_id) VALUES (5, 'Incheon Airport', 'Inha University', '2023-09-19 10:30:00', '2023-09-19 12:30:00', 270, 305, 'OF1004', 1994);\")\n",
        "conn.commit()\n",
        "print(\"Records inserted successfully\")"
      ],
      "metadata": {
        "id": "rpSfVbp5W1c7",
        "colab": {
          "base_uri": "https://localhost:8080/"
        },
        "outputId": "a44215c8-11e0-4e17-b3cb-6c95b6673bf6"
      },
      "execution_count": 23,
      "outputs": [
        {
          "output_type": "stream",
          "name": "stdout",
          "text": [
            "Records inserted successfully\n"
          ]
        }
      ]
    },
    {
      "cell_type": "code",
      "source": [
        "conn.execute(\"INSERT INTO requests (id_requests, `r.model`, `r.color`, `r.clearance_level`, `r.fatl`, `r.stlvt`) VALUES (1, 'XC90 SE', 'Red', '1', true, true);\")\n",
        "conn.execute(\"INSERT INTO requests (id_requests, `r.model`, `r.color`, `r.clearance_level`, `r.fatl`, `r.stlvt`) VALUES (2, 'K7', 'Blue', '2', false, true);\")\n",
        "conn.execute(\"INSERT INTO requests (id_requests, `r.model`, `r.color`, `r.clearance_level`, `r.fatl`, `r.stlvt`) VALUES (3, '2020 F', 'Silver', '3', true, false);\")\n",
        "conn.execute(\"INSERT INTO requests (id_requests, `r.model`, `r.color`, `r.clearance_level`, `r.fatl`, `r.stlvt`) VALUES (4, 'Transit', 'Black', '4', false, false);\")\n",
        "conn.execute(\"INSERT INTO requests (id_requests, `r.model`, `r.color`, `r.clearance_level`, `r.fatl`, `r.stlvt`) VALUES (5, 'Corvette', 'Blue', '5', true, true);\")\n",
        "conn.commit()\n",
        "print(\"Records inserted successfully\")"
      ],
      "metadata": {
        "id": "ADt9XILKW1ii",
        "colab": {
          "base_uri": "https://localhost:8080/"
        },
        "outputId": "f3c4e67d-b676-403a-e763-99724c72c710"
      },
      "execution_count": 24,
      "outputs": [
        {
          "output_type": "stream",
          "name": "stdout",
          "text": [
            "Records inserted successfully\n"
          ]
        }
      ]
    },
    {
      "cell_type": "code",
      "source": [
        "def list_rows():\n",
        "    conn = sqlite3.connect('ITS_database.db')\n",
        "    cursor = conn.execute(\"SELECT country_code,country_name from countries\")\n",
        "    print(\"Show all rows from countries Table:\")\n",
        "    for row in cursor:\n",
        "      print(\"country_code = \", row[0])\n",
        "      print(\"country_name = \", row[1], \"\\n\")\n",
        "list_rows()"
      ],
      "metadata": {
        "colab": {
          "base_uri": "https://localhost:8080/"
        },
        "id": "XgOZedw-UtCk",
        "outputId": "4d596725-c90d-4198-8280-3ac443842e3d"
      },
      "execution_count": 26,
      "outputs": [
        {
          "output_type": "stream",
          "name": "stdout",
          "text": [
            "Show all rows from countries Table:\n",
            "country_code =  ISO 3166-2:KR\n",
            "country_name =  South Korea \n",
            "\n",
            "country_code =  ISO 3166-2:MA\n",
            "country_name =  Morocco \n",
            "\n",
            "country_code =  ISO 3166-2:IR\n",
            "country_name =  Iran \n",
            "\n",
            "country_code =  ISO 3166-2:FR\n",
            "country_name =  France \n",
            "\n",
            "country_code =  ISO 3166-2:US\n",
            "country_name =  USA \n",
            "\n"
          ]
        }
      ]
    },
    {
      "cell_type": "code",
      "source": [
        "import sqlite3\n",
        "\n",
        "def list_requests():\n",
        "    conn = sqlite3.connect('ITS_database.db')\n",
        "    cursor = conn.execute(\"SELECT id_requests, `r.model`, `r.color`, `r.clearance_level`, `r.fatl`, `r.stlvt` FROM requests\")\n",
        "    print(\"Showing all rows from the 'requests' Table:\")\n",
        "    for row in cursor:\n",
        "        print(\"id_requests =\", row[0])\n",
        "        print(\"r.model =\", row[1])\n",
        "        print(\"r.color =\", row[2])\n",
        "        print(\"r.clearance_level =\", row[3])\n",
        "        print(\"r.fatl =\", row[4])\n",
        "        print(\"r.stlvt =\", row[5], \"\\n\")\n",
        "    conn.close()\n",
        "\n",
        "list_requests()"
      ],
      "metadata": {
        "colab": {
          "base_uri": "https://localhost:8080/"
        },
        "id": "TmPDjZTdNtWw",
        "outputId": "8813aa33-8f7c-4014-bde2-b069d4a440aa"
      },
      "execution_count": 27,
      "outputs": [
        {
          "output_type": "stream",
          "name": "stdout",
          "text": [
            "Showing all rows from the 'requests' Table:\n",
            "id_requests = 1\n",
            "r.model = XC90 SE\n",
            "r.color = Red\n",
            "r.clearance_level = 1\n",
            "r.fatl = 1\n",
            "r.stlvt = 1 \n",
            "\n",
            "id_requests = 2\n",
            "r.model = K7\n",
            "r.color = Blue\n",
            "r.clearance_level = 2\n",
            "r.fatl = 0\n",
            "r.stlvt = 1 \n",
            "\n",
            "id_requests = 3\n",
            "r.model = 2020 F\n",
            "r.color = Silver\n",
            "r.clearance_level = 3\n",
            "r.fatl = 1\n",
            "r.stlvt = 0 \n",
            "\n",
            "id_requests = 4\n",
            "r.model = Transit\n",
            "r.color = Black\n",
            "r.clearance_level = 4\n",
            "r.fatl = 0\n",
            "r.stlvt = 0 \n",
            "\n",
            "id_requests = 5\n",
            "r.model = Corvette\n",
            "r.color = Blue\n",
            "r.clearance_level = 5\n",
            "r.fatl = 1\n",
            "r.stlvt = 1 \n",
            "\n"
          ]
        }
      ]
    },
    {
      "cell_type": "code",
      "source": [
        "def list_vehicle():\n",
        "    conn = sqlite3.connect('ITS_database.db')\n",
        "    cursor = conn.execute(\"SELECT vehicle_id, registration_id, manufacturer, model, color, current_odometer, passenger_capacity, availability FROM vehicle\")\n",
        "    print(\"Showing all rows from the 'vehicle' Table:\")\n",
        "    for row in cursor:\n",
        "        print(\"vehicle_id =\", row[0])\n",
        "        print(\"registration_id =\", row[1])\n",
        "        print(\"manufacturer =\", row[2])\n",
        "        print(\"model =\", row[3])\n",
        "        print(\"color =\", row[4])\n",
        "        print(\"current_odometer =\", row[5])\n",
        "        print(\"passenger_capacity =\", row[6])\n",
        "        print(\"availability =\", row[7], \"\\n\")\n",
        "    conn.close()\n",
        "\n",
        "list_vehicle()"
      ],
      "metadata": {
        "colab": {
          "base_uri": "https://localhost:8080/"
        },
        "id": "Hv-Iy8v7Ntaq",
        "outputId": "e8ac368d-e424-44d4-8ac4-1233b67fc4e2"
      },
      "execution_count": 29,
      "outputs": [
        {
          "output_type": "stream",
          "name": "stdout",
          "text": [
            "Showing all rows from the 'vehicle' Table:\n",
            "vehicle_id = V1000\n",
            "registration_id = 2001 ABC\n",
            "manufacturer = Volvo\n",
            "model = XC90 SE\n",
            "color = Silver\n",
            "current_odometer = 4350\n",
            "passenger_capacity = 4\n",
            "availability = 1 \n",
            "\n",
            "vehicle_id = V1001\n",
            "registration_id = 2006 AFD\n",
            "manufacturer = Kia\n",
            "model = K7\n",
            "color = Black\n",
            "current_odometer = 2195\n",
            "passenger_capacity = 4\n",
            "availability = 0 \n",
            "\n",
            "vehicle_id = V1002\n",
            "registration_id = 2021 AHR\n",
            "manufacturer = Tesla\n",
            "model = 2020 F\n",
            "color = White\n",
            "current_odometer = 509\n",
            "passenger_capacity = 4\n",
            "availability = 0 \n",
            "\n",
            "vehicle_id = V1003\n",
            "registration_id = 2020 DXF\n",
            "manufacturer = Ford\n",
            "model = Transit\n",
            "color = Silver\n",
            "current_odometer = 974\n",
            "passenger_capacity = 2\n",
            "availability = 0 \n",
            "\n",
            "vehicle_id = V1004\n",
            "registration_id = 2023 RTX\n",
            "manufacturer = Chevrolet\n",
            "model = Corvette\n",
            "color = Blue\n",
            "current_odometer = 270\n",
            "passenger_capacity = 2\n",
            "availability = 1 \n",
            "\n"
          ]
        }
      ]
    },
    {
      "cell_type": "code",
      "source": [
        "import sqlite3\n",
        "\n",
        "def list_driver_info():\n",
        "    conn = sqlite3.connect('ITS_database.db')\n",
        "    cursor = conn.execute(\"SELECT driver_id, driver_name, license_number, clearance_level, fatl, stlvt, driver_preferred_langage, vehicle_id FROM driver_info\")\n",
        "    print(\"Showing all rows from the 'driver_info' Table:\")\n",
        "    for row in cursor:\n",
        "        print(\"driver_id =\", row[0])\n",
        "        print(\"driver_name =\", row[1])\n",
        "        print(\"license_number =\", row[2])\n",
        "        print(\"clearance_level =\", row[3])\n",
        "        print(\"fatl =\", row[4])\n",
        "        print(\"stlvt =\", row[5])\n",
        "        print(\"driver_preferred_langage =\", row[6])\n",
        "        print(\"vehicle_id =\", row[7], \"\\n\")\n",
        "    conn.close()\n",
        "\n",
        "list_driver_info()\n"
      ],
      "metadata": {
        "colab": {
          "base_uri": "https://localhost:8080/"
        },
        "id": "UAFwmCWnNtkU",
        "outputId": "5a03f412-7888-487e-d992-51c2f08d3867"
      },
      "execution_count": 30,
      "outputs": [
        {
          "output_type": "stream",
          "name": "stdout",
          "text": [
            "Showing all rows from the 'driver_info' Table:\n",
            "driver_id = 1231\n",
            "driver_name = Marc Zhou\n",
            "license_number = 135671638171635189\n",
            "clearance_level = 4\n",
            "fatl = 1\n",
            "stlvt = 1\n",
            "driver_preferred_langage = English\n",
            "vehicle_id = V1000 \n",
            "\n",
            "driver_id = 2303\n",
            "driver_name = Max Jin\n",
            "license_number = 182937162836172937\n",
            "clearance_level = 3\n",
            "fatl = 1\n",
            "stlvt = 0\n",
            "driver_preferred_langage = Spanish\n",
            "vehicle_id = V1001 \n",
            "\n",
            "driver_id = 1039\n",
            "driver_name = Adam Khalil\n",
            "license_number = 019273618435169786\n",
            "clearance_level = 2\n",
            "fatl = 0\n",
            "stlvt = 1\n",
            "driver_preferred_langage = French\n",
            "vehicle_id = V1002 \n",
            "\n",
            "driver_id = 7564\n",
            "driver_name = Clément Malon\n",
            "license_number = 562810982910872618\n",
            "clearance_level = 1\n",
            "fatl = 0\n",
            "stlvt = 0\n",
            "driver_preferred_langage = German\n",
            "vehicle_id = V1003 \n",
            "\n"
          ]
        }
      ]
    },
    {
      "cell_type": "code",
      "source": [
        "def list_vehicle_state():\n",
        "    conn = sqlite3.connect('ITS_database.db')\n",
        "    cursor = conn.execute(\"SELECT state_id, action_type, odometer, final_cost, brief_description, action_date, vehicle_id FROM `vehicle.state`\")\n",
        "    print(\"Showing all rows from the 'vehicle.state' Table:\")\n",
        "    for row in cursor:\n",
        "        print(\"state_id =\", row[0])\n",
        "        print(\"action_type =\", row[1])\n",
        "        print(\"odometer =\", row[2])\n",
        "        print(\"final_cost =\", row[3])\n",
        "        print(\"brief_description =\", row[4])\n",
        "        print(\"action_date =\", row[5])\n",
        "        print(\"vehicle_id =\", row[6], \"\\n\")\n",
        "    conn.close()\n",
        "\n",
        "list_vehicle_state()\n"
      ],
      "metadata": {
        "colab": {
          "base_uri": "https://localhost:8080/"
        },
        "id": "VRGCyR7fNtnm",
        "outputId": "3ce66a9d-c857-49d4-eee0-ab98b9c2a77b"
      },
      "execution_count": 31,
      "outputs": [
        {
          "output_type": "stream",
          "name": "stdout",
          "text": [
            "Showing all rows from the 'vehicle.state' Table:\n",
            "state_id = S1000\n",
            "action_type = M\n",
            "odometer = 4000\n",
            "final_cost = 250.5\n",
            "brief_description = Routine maintenance\n",
            "action_date = 2023-10-10\n",
            "vehicle_id = V1000 \n",
            "\n",
            "state_id = S1001\n",
            "action_type = R\n",
            "odometer = 2000\n",
            "final_cost = 350.25\n",
            "brief_description = Repair transmission\n",
            "action_date = 2023-10-15\n",
            "vehicle_id = V1001 \n",
            "\n",
            "state_id = S1002\n",
            "action_type = M\n",
            "odometer = 400\n",
            "final_cost = 180.75\n",
            "brief_description = Oil change\n",
            "action_date = 2022-07-20\n",
            "vehicle_id = V1002 \n",
            "\n",
            "state_id = S1003\n",
            "action_type = R\n",
            "odometer = 300\n",
            "final_cost = 425.0\n",
            "brief_description = Replace brakes\n",
            "action_date = 2023-01-25\n",
            "vehicle_id = V1003 \n",
            "\n",
            "state_id = S1004\n",
            "action_type = M\n",
            "odometer = 112\n",
            "final_cost = 210.8\n",
            "brief_description = Tire rotation\n",
            "action_date = 2023-09-01\n",
            "vehicle_id = V1004 \n",
            "\n"
          ]
        }
      ]
    },
    {
      "cell_type": "code",
      "source": [
        "import sqlite3\n",
        "\n",
        "def list_fatl():\n",
        "    conn = sqlite3.connect('ITS_database.db')\n",
        "    cursor = conn.execute(\"SELECT level, qualification_date, driver_id FROM fatl\")\n",
        "    print(\"Showing all rows from the 'fatl' Table:\")\n",
        "    for row in cursor:\n",
        "        print(\"level =\", row[0])\n",
        "        print(\"qualification_date =\", row[1])\n",
        "        print(\"driver_id =\", row[2], \"\\n\")\n",
        "    conn.close()\n",
        "\n",
        "list_fatl()"
      ],
      "metadata": {
        "colab": {
          "base_uri": "https://localhost:8080/"
        },
        "id": "7w6wiRWHNtqZ",
        "outputId": "51c7f5c4-4f6d-4eea-8a47-012485d59f6a"
      },
      "execution_count": 32,
      "outputs": [
        {
          "output_type": "stream",
          "name": "stdout",
          "text": [
            "Showing all rows from the 'fatl' Table:\n",
            "level = 5\n",
            "qualification_date = 2023-01-15\n",
            "driver_id = 1231 \n",
            "\n",
            "level = 8\n",
            "qualification_date = 2023-02-20\n",
            "driver_id = 2303 \n",
            "\n",
            "level = 6\n",
            "qualification_date = 2023-03-25\n",
            "driver_id = 1039 \n",
            "\n",
            "level = 9\n",
            "qualification_date = 2023-04-30\n",
            "driver_id = 7564 \n",
            "\n",
            "level = 7\n",
            "qualification_date = 2023-05-05\n",
            "driver_id = 1994 \n",
            "\n"
          ]
        }
      ]
    },
    {
      "cell_type": "code",
      "source": [
        "import sqlite3\n",
        "\n",
        "def list_game_officials():\n",
        "    conn = sqlite3.connect('ITS_database.db')\n",
        "    cursor = conn.execute(\"SELECT official_id, country, official_name, official_role, official_preferred_langage, id_requests FROM game_officials\")\n",
        "    print(\"Showing all rows from the 'game_officials' Table:\")\n",
        "    for row in cursor:\n",
        "        print(\"official_id =\", row[0])\n",
        "        print(\"country =\", row[1])\n",
        "        print(\"official_name =\", row[2])\n",
        "        print(\"official_role =\", row[3])\n",
        "        print(\"official_preferred_language =\", row[4])\n",
        "        print(\"id_requests =\", row[5], \"\\n\")\n",
        "    conn.close()\n",
        "\n",
        "list_game_officials()\n"
      ],
      "metadata": {
        "colab": {
          "base_uri": "https://localhost:8080/"
        },
        "id": "3_aB1Baeb31O",
        "outputId": "ee80519b-f6de-4c7b-d44e-89e8a6637107"
      },
      "execution_count": 33,
      "outputs": [
        {
          "output_type": "stream",
          "name": "stdout",
          "text": [
            "Showing all rows from the 'game_officials' Table:\n",
            "official_id = OF1000\n",
            "country = USA\n",
            "official_name = Mickael Jordan\n",
            "official_role = Coach\n",
            "official_preferred_language = English\n",
            "id_requests = 1 \n",
            "\n",
            "official_id = OF1001\n",
            "country = France\n",
            "official_name = Antoine Dupont\n",
            "official_role = Judge\n",
            "official_preferred_language = French\n",
            "id_requests = 2 \n",
            "\n",
            "official_id = OF1002\n",
            "country = Germany\n",
            "official_name = Hans Müller\n",
            "official_role = Physician\n",
            "official_preferred_language = German\n",
            "id_requests = 3 \n",
            "\n",
            "official_id = OF1003\n",
            "country = Spain\n",
            "official_name = Mateu Lahoz\n",
            "official_role = Judge\n",
            "official_preferred_language = Spanish\n",
            "id_requests = 4 \n",
            "\n",
            "official_id = OF1004\n",
            "country = Italy\n",
            "official_name = Herb Dean\n",
            "official_role = Judge\n",
            "official_preferred_language = Arabic\n",
            "id_requests = 5 \n",
            "\n"
          ]
        }
      ]
    },
    {
      "cell_type": "code",
      "source": [
        "import sqlite3\n",
        "\n",
        "def list_stlvt():\n",
        "    conn = sqlite3.connect('ITS_database.db')\n",
        "    cursor = conn.execute(\"SELECT level, qualification_date, certifying_authority, driver_id FROM stlvt\")\n",
        "    print(\"Showing all rows from the 'stlvt' Table:\")\n",
        "    for row in cursor:\n",
        "        print(\"level =\", row[0])\n",
        "        print(\"qualification_date =\", row[1])\n",
        "        print(\"certifying_authority =\", row[2])\n",
        "        print(\"driver_id =\", row[3], \"\\n\")\n",
        "    conn.close()\n",
        "\n",
        "list_stlvt()\n"
      ],
      "metadata": {
        "colab": {
          "base_uri": "https://localhost:8080/"
        },
        "id": "n6j8kgVfb35H",
        "outputId": "d60a3fdf-b839-42c0-cd90-820994b946b7"
      },
      "execution_count": 34,
      "outputs": [
        {
          "output_type": "stream",
          "name": "stdout",
          "text": [
            "Showing all rows from the 'stlvt' Table:\n",
            "level = 3\n",
            "qualification_date = 2023-01-15\n",
            "certifying_authority = Local Police Station\n",
            "driver_id = 1231 \n",
            "\n",
            "level = 5\n",
            "qualification_date = 2023-02-20\n",
            "certifying_authority = Foreign Police Station\n",
            "driver_id = 2303 \n",
            "\n",
            "level = 4\n",
            "qualification_date = 2023-03-25\n",
            "certifying_authority = Local Police Station\n",
            "driver_id = 1039 \n",
            "\n",
            "level = 2\n",
            "qualification_date = 2023-04-30\n",
            "certifying_authority = Foreign Police Station\n",
            "driver_id = 7564 \n",
            "\n",
            "level = 1\n",
            "qualification_date = 2023-05-05\n",
            "certifying_authority = Local Police Station\n",
            "driver_id = 1994 \n",
            "\n"
          ]
        }
      ]
    },
    {
      "cell_type": "code",
      "source": [
        "import sqlite3\n",
        "\n",
        "def list_booking_service():\n",
        "    conn = sqlite3.connect('ITS_database.db')\n",
        "    cursor = conn.execute(\"SELECT booking_reference_nb, pick_up, drop_off, start_date, end_date, current_odometer, end_odometer, official_id, driver_id FROM booking_service\")\n",
        "    print(\"Showing all rows from the 'booking_service' Table:\")\n",
        "    for row in cursor:\n",
        "        print(\"booking_reference_nb =\", row[0])\n",
        "        print(\"pick_up =\", row[1])\n",
        "        print(\"drop_off =\", row[2])\n",
        "        print(\"start_date =\", row[3])\n",
        "        print(\"end_date =\", row[4])\n",
        "        print(\"current_odometer =\", row[5])\n",
        "        print(\"end_odometer =\", row[6])\n",
        "        print(\"official_id =\", row[7])\n",
        "        print(\"driver_id =\", row[8], \"\\n\")\n",
        "    conn.close()\n",
        "\n",
        "list_booking_service()"
      ],
      "metadata": {
        "colab": {
          "base_uri": "https://localhost:8080/"
        },
        "id": "s8iq79lvb38N",
        "outputId": "8b2b48b9-56a0-45a0-ada9-55c134b832bf"
      },
      "execution_count": 35,
      "outputs": [
        {
          "output_type": "stream",
          "name": "stdout",
          "text": [
            "Showing all rows from the 'booking_service' Table:\n",
            "booking_reference_nb = 1\n",
            "pick_up = Incheon Golden Hotel\n",
            "drop_off = Incheon Airport\n",
            "start_date = 2023-09-15 08:00:00\n",
            "end_date = 2023-09-15 10:00:00\n",
            "current_odometer = 4350\n",
            "end_odometer = 4500\n",
            "official_id = OF1000\n",
            "driver_id = 1231 \n",
            "\n",
            "booking_reference_nb = 2\n",
            "pick_up = Incheon Stadium\n",
            "drop_off = Bupyeong-Gu Hotel\n",
            "start_date = 2023-09-16 14:30:00\n",
            "end_date = 2023-09-16 16:30:00\n",
            "current_odometer = 2195\n",
            "end_odometer = 2225\n",
            "official_id = OF1001\n",
            "driver_id = 1039 \n",
            "\n",
            "booking_reference_nb = 3\n",
            "pick_up = Incheon Airport\n",
            "drop_off = Incheon Stadium\n",
            "start_date = 2023-09-17 11:15:00\n",
            "end_date = 2023-09-17 13:15:00\n",
            "current_odometer = 509\n",
            "end_odometer = 530\n",
            "official_id = OF1002\n",
            "driver_id = 7564 \n",
            "\n",
            "booking_reference_nb = 4\n",
            "pick_up = Incheon Golden Hotel\n",
            "drop_off = Bupyeong-Gu Hotel\n",
            "start_date = 2023-09-18 17:45:00\n",
            "end_date = 2023-09-18 19:45:00\n",
            "current_odometer = 974\n",
            "end_odometer = 1000\n",
            "official_id = OF1003\n",
            "driver_id = 2303 \n",
            "\n",
            "booking_reference_nb = 5\n",
            "pick_up = Incheon Airport\n",
            "drop_off = Inha University\n",
            "start_date = 2023-09-19 10:30:00\n",
            "end_date = 2023-09-19 12:30:00\n",
            "current_odometer = 270\n",
            "end_odometer = 305\n",
            "official_id = OF1004\n",
            "driver_id = 1994 \n",
            "\n"
          ]
        }
      ]
    },
    {
      "cell_type": "code",
      "source": [
        "#conn.execute('''\n",
        "ALTER TABLE booking_service\n",
        "ADD CONSTRAINT language_match_constraint\n",
        "CHECK (\n",
        "  EXISTS (\n",
        "    SELECT 1 FROM game_officials go\n",
        "    JOIN driver_info di ON go.official_id = official_id\n",
        "    AND di.driver_id = driver_id\n",
        "    WHERE go.official_preferred_langage = di.driver_preferred_langage ) ); ''')"
      ],
      "metadata": {
        "id": "lBDwu4NmS71J"
      },
      "execution_count": null,
      "outputs": []
    },
    {
      "cell_type": "code",
      "source": [
        "#conn.execute('''\n",
        "ALTER TABLE booking_service\n",
        "ADD CONSTRAINT requests_match_constraint\n",
        "CHECK (\n",
        "    EXISTS (\n",
        "        SELECT 1\n",
        "        FROM requests r\n",
        "        JOIN vehicle v ON r.model = v.model\n",
        "        AND r.color = v.color\n",
        "        JOIN driver_info di ON r.clearance_level = di.clearance_level\n",
        "        AND r.fatl = di.fatl\n",
        "        AND r.stlvt = di.stlvt\n",
        "    )\n",
        ");\n",
        "''')"
      ],
      "metadata": {
        "id": "9Mo3dUEFTBnh"
      },
      "execution_count": null,
      "outputs": []
    }
  ]
}