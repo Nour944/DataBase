{
  "nbformat": 4,
  "nbformat_minor": 0,
  "metadata": {
    "colab": {
      "provenance": []
    },
    "kernelspec": {
      "name": "python3",
      "display_name": "Python 3"
    },
    "language_info": {
      "name": "python"
    }
  },
  "cells": [
    {
      "cell_type": "markdown",
      "source": [
        "Detailed list of contributions:\n",
        "\n",
        "Nour Belabed: 4.1 Joins and Subqueries |\n",
        "Adam Khalil: inserts in tables and 4.2 Window functions |\n",
        "Max Jin: Tables creation and 4.3 Triggers"
      ],
      "metadata": {
        "id": "ZkQWzAY5IiGh"
      }
    },
    {
      "cell_type": "code",
      "execution_count": 1,
      "metadata": {
        "id": "poqt6Gc2hfXy"
      },
      "outputs": [],
      "source": [
        "import sqlite3"
      ]
    },
    {
      "cell_type": "code",
      "source": [
        "conn = sqlite3.connect('Assignment_database.db')\n",
        "cursor = conn.cursor()\n",
        "print(\"Opened database successfully\")"
      ],
      "metadata": {
        "colab": {
          "base_uri": "https://localhost:8080/"
        },
        "id": "QTigCzRQhkyX",
        "outputId": "8ff651fc-7389-4dbf-bb16-b84dcc105fc8"
      },
      "execution_count": 18,
      "outputs": [
        {
          "output_type": "stream",
          "name": "stdout",
          "text": [
            "Opened database successfully\n"
          ]
        }
      ]
    },
    {
      "cell_type": "markdown",
      "source": [
        "We create the tables in our database"
      ],
      "metadata": {
        "id": "uG4JTUm3C80m"
      }
    },
    {
      "cell_type": "code",
      "source": [
        "cursor.execute('''\n",
        "    CREATE TABLE Employees (\n",
        "        EmployeeID INTEGER PRIMARY KEY,\n",
        "        Name TEXT,\n",
        "        Position TEXT,\n",
        "        DepartmentID INTEGER,\n",
        "        Salary REAL\n",
        "    )\n",
        "''')"
      ],
      "metadata": {
        "colab": {
          "base_uri": "https://localhost:8080/"
        },
        "id": "bQFrcGJFhk1U",
        "outputId": "76e85ac7-c30c-48e1-9546-457d1ad627b6"
      },
      "execution_count": 3,
      "outputs": [
        {
          "output_type": "execute_result",
          "data": {
            "text/plain": [
              "<sqlite3.Cursor at 0x7de627099140>"
            ]
          },
          "metadata": {},
          "execution_count": 3
        }
      ]
    },
    {
      "cell_type": "code",
      "source": [
        "cursor.execute('''\n",
        "    CREATE TABLE Departments (\n",
        "        DepartmentID INTEGER PRIMARY KEY,\n",
        "        DepartmentName TEXT\n",
        "    )\n",
        "''')"
      ],
      "metadata": {
        "colab": {
          "base_uri": "https://localhost:8080/"
        },
        "id": "0F3tto__hk4S",
        "outputId": "fff7901a-1fad-4fa2-9957-497ce61d5b0e"
      },
      "execution_count": 4,
      "outputs": [
        {
          "output_type": "execute_result",
          "data": {
            "text/plain": [
              "<sqlite3.Cursor at 0x7de627099140>"
            ]
          },
          "metadata": {},
          "execution_count": 4
        }
      ]
    },
    {
      "cell_type": "code",
      "source": [
        "cursor.execute('''\n",
        "    CREATE TABLE if not exists Projects (\n",
        "        ProjectID INTEGER PRIMARY KEY,\n",
        "        ProjectName TEXT,\n",
        "        DepartmentID INTEGER\n",
        "    )\n",
        "''')"
      ],
      "metadata": {
        "id": "KnKh71jthk64",
        "colab": {
          "base_uri": "https://localhost:8080/"
        },
        "outputId": "d6996ee7-6c29-464b-8451-bf9ebd02eac1"
      },
      "execution_count": 5,
      "outputs": [
        {
          "output_type": "execute_result",
          "data": {
            "text/plain": [
              "<sqlite3.Cursor at 0x7de627099140>"
            ]
          },
          "metadata": {},
          "execution_count": 5
        }
      ]
    },
    {
      "cell_type": "code",
      "source": [
        "cursor.execute('''\n",
        "    CREATE TABLE if not exists Assignments (\n",
        "        EmployeeID INTEGER,\n",
        "        ProjectID INTEGER,\n",
        "        HoursWorked INTEGER,\n",
        "        PRIMARY KEY (EmployeeID, ProjectID),\n",
        "        FOREIGN KEY (EmployeeID) REFERENCES Employees(EmployeeID),\n",
        "        FOREIGN KEY (ProjectID) REFERENCES Projects(ProjectID)\n",
        "    )\n",
        "''')"
      ],
      "metadata": {
        "id": "Zx438Dkchk86",
        "colab": {
          "base_uri": "https://localhost:8080/"
        },
        "outputId": "7d993ad8-9b96-45f1-aa36-4338a73904b1"
      },
      "execution_count": 6,
      "outputs": [
        {
          "output_type": "execute_result",
          "data": {
            "text/plain": [
              "<sqlite3.Cursor at 0x7de627099140>"
            ]
          },
          "metadata": {},
          "execution_count": 6
        }
      ]
    },
    {
      "cell_type": "code",
      "source": [
        "conn.commit()"
      ],
      "metadata": {
        "id": "7ZtSOGF1hslx"
      },
      "execution_count": 7,
      "outputs": []
    },
    {
      "cell_type": "markdown",
      "source": [
        "We display the list of the tables so we check on the good execution of the previous queries."
      ],
      "metadata": {
        "id": "oujuPMkcDP93"
      }
    },
    {
      "cell_type": "code",
      "source": [
        "# Connexion à la base de données\n",
        "conn = sqlite3.connect('Assignment_database.db')\n",
        "cursor = conn.cursor()\n",
        "\n",
        "# Récupérer la liste de toutes les tables\n",
        "cursor.execute(\"SELECT name FROM sqlite_master WHERE type='table';\")\n",
        "tables = cursor.fetchall()\n",
        "\n",
        "# Afficher le nom de chaque table\n",
        "for table in tables:\n",
        "    print(\"Table:\", table[0])"
      ],
      "metadata": {
        "colab": {
          "base_uri": "https://localhost:8080/"
        },
        "id": "a0x5q6cF-WBV",
        "outputId": "3335def3-512c-4121-8483-e4e97b44c7fb"
      },
      "execution_count": 8,
      "outputs": [
        {
          "output_type": "stream",
          "name": "stdout",
          "text": [
            "Table: Employees\n",
            "Table: Departments\n",
            "Table: Projects\n",
            "Table: Assignments\n"
          ]
        }
      ]
    },
    {
      "cell_type": "markdown",
      "source": [
        "We populate our tables by inserting data in them."
      ],
      "metadata": {
        "id": "ttbLpwh2Dbim"
      }
    },
    {
      "cell_type": "code",
      "source": [
        "cursor.executemany('''\n",
        "    INSERT INTO Employees (Name, Position, DepartmentID, Salary)\n",
        "    VALUES (?, ?, ?, ?)\n",
        "''', [\n",
        "    ('John Doe', 'Software Engineer', 1, 80000),\n",
        "    ('Jane Smith', 'Project Manager', 2, 90000),\n",
        "    ('Bob Johnson', 'Data Scientist', 1, 85000),\n",
        "    ('Alice Brown', 'Marketing Specialist', 3, 75000),\n",
        "    ('Charlie Wilson', 'QA Tester', 2, 70000),\n",
        "    ('Adam Khalil', 'Software Developer', 1, 92000),\n",
        "    ('Max Jin', 'Product Manager', 2, 35000),\n",
        "    ('Marc Zhou', 'UX Designer', 1, 12000),\n",
        "    ('Dana White', 'Sales Representative', 3, 172000),\n",
        "    ('Nour Belabed', 'data Analyst', 2, 125000)\n",
        "])"
      ],
      "metadata": {
        "id": "x0XTB__RiV2S",
        "colab": {
          "base_uri": "https://localhost:8080/"
        },
        "outputId": "968d346c-7fe6-4cb8-9b78-c74a343ef4ee"
      },
      "execution_count": 9,
      "outputs": [
        {
          "output_type": "execute_result",
          "data": {
            "text/plain": [
              "<sqlite3.Cursor at 0x7de627099ac0>"
            ]
          },
          "metadata": {},
          "execution_count": 9
        }
      ]
    },
    {
      "cell_type": "code",
      "source": [
        "cursor.executemany('''\n",
        "    INSERT INTO Departments (DepartmentName)\n",
        "    VALUES (?)\n",
        "''', [\n",
        "    ('Engineering',),\n",
        "    ('Management',),\n",
        "    ('Marketing',),\n",
        "    ('Finance',),\n",
        "    ('Human Resources',)\n",
        "])"
      ],
      "metadata": {
        "id": "g5LzisvKiV53",
        "colab": {
          "base_uri": "https://localhost:8080/"
        },
        "outputId": "03c29cc1-8b82-4d41-b64c-23da7612e83a"
      },
      "execution_count": 10,
      "outputs": [
        {
          "output_type": "execute_result",
          "data": {
            "text/plain": [
              "<sqlite3.Cursor at 0x7de627099ac0>"
            ]
          },
          "metadata": {},
          "execution_count": 10
        }
      ]
    },
    {
      "cell_type": "code",
      "source": [
        "cursor.executemany('''\n",
        "    INSERT INTO Projects (ProjectName, DepartmentID)\n",
        "    VALUES (?, ?)\n",
        "''', [\n",
        "    ('Project A', 1),\n",
        "    ('Project B', 2),\n",
        "    ('Project C', 3),\n",
        "    ('Project D', 1),\n",
        "    ('Project E', 2)\n",
        "])"
      ],
      "metadata": {
        "id": "wMMl5x9_ihSc",
        "colab": {
          "base_uri": "https://localhost:8080/"
        },
        "outputId": "36ec32fc-49ad-42f9-c653-84913576283f"
      },
      "execution_count": 11,
      "outputs": [
        {
          "output_type": "execute_result",
          "data": {
            "text/plain": [
              "<sqlite3.Cursor at 0x7de627099ac0>"
            ]
          },
          "metadata": {},
          "execution_count": 11
        }
      ]
    },
    {
      "cell_type": "code",
      "source": [
        "cursor.executemany('''\n",
        "    INSERT INTO Assignments (EmployeeID, ProjectID, HoursWorked)\n",
        "    VALUES (?, ?, ?)\n",
        "''', [\n",
        "    (1, 1, 40),\n",
        "    (2, 2, 35),\n",
        "    (3, 1, 30),\n",
        "    (4, 3, 25),\n",
        "    (5, 2, 20),\n",
        "    (6, 1, 40),\n",
        "    (7, 2, 35),\n",
        "    (8, 1, 30),\n",
        "    (9, 3, 25),\n",
        "    (10, 2, 20),\n",
        "])"
      ],
      "metadata": {
        "id": "MBFA8KB9iV8u",
        "colab": {
          "base_uri": "https://localhost:8080/"
        },
        "outputId": "ad218f6a-8570-45a7-ef0d-45ce6307a672"
      },
      "execution_count": 12,
      "outputs": [
        {
          "output_type": "execute_result",
          "data": {
            "text/plain": [
              "<sqlite3.Cursor at 0x7de627099ac0>"
            ]
          },
          "metadata": {},
          "execution_count": 12
        }
      ]
    },
    {
      "cell_type": "markdown",
      "source": [
        "We create the query that lists all the employees with a select, then we add a join clause to display the names of the projects they are working on."
      ],
      "metadata": {
        "id": "8BYmxPPkEJ0E"
      }
    },
    {
      "cell_type": "code",
      "source": [
        "cursor.execute('''\n",
        "    SELECT\n",
        "        E.EmployeeID,\n",
        "        E.Name AS EmployeeName,\n",
        "        A.ProjectID,\n",
        "        P.ProjectName\n",
        "    FROM\n",
        "        Employees E\n",
        "        JOIN Assignments A ON E.EmployeeID = A.EmployeeID\n",
        "        JOIN Projects P ON A.ProjectID = P.ProjectID\n",
        "''')\n",
        "\n",
        "# Fetch all the results\n",
        "results = cursor.fetchall()\n",
        "\n",
        "# Print the results\n",
        "for row in results:\n",
        "    print(row)"
      ],
      "metadata": {
        "id": "YRQtHeABiGsV",
        "colab": {
          "base_uri": "https://localhost:8080/"
        },
        "outputId": "b1f72dff-98e4-47c3-864d-025db96336aa"
      },
      "execution_count": 13,
      "outputs": [
        {
          "output_type": "stream",
          "name": "stdout",
          "text": [
            "(1, 'John Doe', 1, 'Project A')\n",
            "(2, 'Jane Smith', 2, 'Project B')\n",
            "(3, 'Bob Johnson', 1, 'Project A')\n",
            "(4, 'Alice Brown', 3, 'Project C')\n",
            "(5, 'Charlie Wilson', 2, 'Project B')\n",
            "(6, 'Adam Khalil', 1, 'Project A')\n",
            "(7, 'Max Jin', 2, 'Project B')\n",
            "(8, 'Marc Zhou', 1, 'Project A')\n",
            "(9, 'Dana White', 3, 'Project C')\n",
            "(10, 'Nour Belabed', 2, 'Project B')\n"
          ]
        }
      ]
    },
    {
      "cell_type": "markdown",
      "source": [
        "We create a query to calculate the average salary of each department, then we group them by the department name, we order it in descending and we limit the result to 1 value so we only keep the highest average."
      ],
      "metadata": {
        "id": "w87095ncGd4L"
      }
    },
    {
      "cell_type": "code",
      "source": [
        "cursor.execute('''\n",
        "    SELECT DepartmentName, AVG(Salary) AS AvgSalary\n",
        "    FROM Departments\n",
        "    JOIN Employees ON Departments.DepartmentID = Employees.DepartmentID\n",
        "    GROUP BY DepartmentName\n",
        "    ORDER BY AvgSalary DESC\n",
        "    LIMIT 1\n",
        "''')\n",
        "\n",
        "# Fetch the result\n",
        "result = cursor.fetchone()\n",
        "print(\"Department with the highest average salary:\")\n",
        "print(\"Department Name:\", result[0])\n",
        "print(\"Average Salary:\", result[1])"
      ],
      "metadata": {
        "id": "po9RDL-Ji1rt",
        "colab": {
          "base_uri": "https://localhost:8080/"
        },
        "outputId": "883a115e-250d-4694-ca23-758972304315"
      },
      "execution_count": 14,
      "outputs": [
        {
          "output_type": "stream",
          "name": "stdout",
          "text": [
            "Department with the highest average salary:\n",
            "Department Name: Marketing\n",
            "Average Salary: 123500.0\n"
          ]
        }
      ]
    },
    {
      "cell_type": "markdown",
      "source": [
        "We create a query with the rank() function to rank the employees based on their salary in a descending order for each department (from the first to the third)"
      ],
      "metadata": {
        "id": "v2_VTjkAG-MN"
      }
    },
    {
      "cell_type": "code",
      "source": [
        "cursor.execute('''\n",
        "    SELECT\n",
        "    EmployeeID,\n",
        "    Name,\n",
        "    Position,\n",
        "    DepartmentID,\n",
        "    Salary,\n",
        "    RANK() OVER (PARTITION BY DepartmentID ORDER BY Salary DESC) AS SalaryRank\n",
        "FROM\n",
        "    Employees;\n",
        "\n",
        "''')\n",
        "results = cursor.fetchall()\n",
        "for row in results:\n",
        "    print(row)"
      ],
      "metadata": {
        "id": "9pFisO9-jLJZ",
        "colab": {
          "base_uri": "https://localhost:8080/"
        },
        "outputId": "13cc5675-8c64-4298-c865-b970180df6fa"
      },
      "execution_count": 19,
      "outputs": [
        {
          "output_type": "stream",
          "name": "stdout",
          "text": [
            "(6, 'Adam Khalil', 'Software Developer', 1, 92000.0, 1)\n",
            "(3, 'Bob Johnson', 'Data Scientist', 1, 85000.0, 2)\n",
            "(1, 'John Doe', 'Software Engineer', 1, 80000.0, 3)\n",
            "(8, 'Marc Zhou', 'UX Designer', 1, 12000.0, 4)\n",
            "(10, 'Nour Belabed', 'data Analyst', 2, 125000.0, 1)\n",
            "(2, 'Jane Smith', 'Project Manager', 2, 90000.0, 2)\n",
            "(5, 'Charlie Wilson', 'QA Tester', 2, 70000.0, 3)\n",
            "(7, 'Max Jin', 'Product Manager', 2, 35000.0, 4)\n",
            "(9, 'Dana White', 'Sales Representative', 3, 172000.0, 1)\n",
            "(4, 'Alice Brown', 'Marketing Specialist', 3, 75000.0, 2)\n"
          ]
        }
      ]
    },
    {
      "cell_type": "markdown",
      "source": [
        "Finally, we create a trigger that activates automatically when an assignment is added, so it updates the total hours worked in a project."
      ],
      "metadata": {
        "id": "5Ji0dl8fIKXh"
      }
    },
    {
      "cell_type": "code",
      "source": [
        "cursor.execute('''\n",
        "    CREATE TRIGGER update_total_hours\n",
        "AFTER INSERT ON Assignments\n",
        "FOR EACH ROW\n",
        "BEGIN\n",
        "    UPDATE Projects\n",
        "    SET TotalHoursWorked = TotalHoursWorked + NEW.HoursWorked\n",
        "    WHERE ProjectID = NEW.ProjectID;\n",
        "END;\n",
        "''')\n",
        "# Commit and close the connection\n",
        "conn.commit()\n",
        "conn.close()"
      ],
      "metadata": {
        "id": "9_W58E4Gj3Y7"
      },
      "execution_count": 16,
      "outputs": []
    }
  ]
}